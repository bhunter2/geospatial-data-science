{
 "cells": [
  {
   "cell_type": "markdown",
   "id": "9ec3aeb4",
   "metadata": {},
   "source": [
    "# Brooke Hunter Lab 2 Submission Notebook\n",
    "\n",
    "## Lab 2a: Exploring wildfire occurrence data in Python\n",
    "\n",
    "**Objectives:**\n",
    "   * Explore a large wildfire dataset using `pandas` and `geopandas`.\n",
    "   * Query `pandas DataFrames` and find descriptive statistics\n",
    "   * Filter and aggregate `pandas DataFrames`\n",
    "   * Plot time-series data"
   ]
  },
  {
   "cell_type": "markdown",
   "id": "31448c17",
   "metadata": {},
   "source": [
    "### Download the data for the lab\n",
    "\n",
    "We will be using a wildfire dataset for 1992-2018 period compiled from US federal, state, and local reporting systems by the Forest Service. More info can be found here: https://www.fs.usda.gov/rds/archive/Catalog/RDS-2013-0009.5. Since the max file size for GitHub is 2 GB, the lab data will be available on Dropbox. See Slack (or Canvas) for the Dropbox link. \n",
    "\n",
    "Once you have launched the notebook and downloaded the data, we are ready to begin..."
   ]
  },
  {
   "cell_type": "code",
   "execution_count": 1,
   "id": "2c1f6067",
   "metadata": {},
   "outputs": [],
   "source": [
    "# Import modules\n",
    "import pandas as pd\n",
    "import geopandas as gpd\n",
    "import matplotlib.pyplot as plt"
   ]
  },
  {
   "cell_type": "markdown",
   "id": "4b122ed0",
   "metadata": {},
   "source": [
    "### Apply filters"
   ]
  },
  {
   "cell_type": "code",
   "execution_count": 2,
   "id": "6b511e98",
   "metadata": {},
   "outputs": [],
   "source": [
    "# Define data filepath\n",
    "# I just put it all in one line because I was having an issue with it concatenating correctly... \n",
    "# Read data\n",
    "df = gpd.read_file('E:\\GitHub\\GeospatialDataAnalysis\\geospatial-data-science\\labs\\lab2\\data\\or_1992-2018.shp') # 'df' stands for DataFrame"
   ]
  },
  {
   "cell_type": "markdown",
   "id": "83c9ca64",
   "metadata": {},
   "source": [
    "### Examples from lab notebook below"
   ]
  },
  {
   "cell_type": "code",
   "execution_count": 3,
   "id": "e9f25d64",
   "metadata": {},
   "outputs": [],
   "source": [
    "# Filter fires larger than 100 acres\n",
    "df_large = df.copy()  # To fix error later on. Jon showed me how to. \n",
    "df_large = df[df['FIRE_SIZE'] > 100]"
   ]
  },
  {
   "cell_type": "code",
   "execution_count": 4,
   "id": "cc3db94c",
   "metadata": {},
   "outputs": [
    {
     "data": {
      "text/plain": [
       "5077.047927022739"
      ]
     },
     "execution_count": 4,
     "metadata": {},
     "output_type": "execute_result"
    }
   ],
   "source": [
    "# Find mean size of wildfires larger than 100 acres\n",
    "df_large['FIRE_SIZE'].mean()"
   ]
  },
  {
   "cell_type": "code",
   "execution_count": 5,
   "id": "83bdb4b2",
   "metadata": {},
   "outputs": [
    {
     "data": {
      "text/plain": [
       "array(['Human', 'Natural', 'Missing data/not specified/undetermined'],\n",
       "      dtype=object)"
      ]
     },
     "execution_count": 5,
     "metadata": {},
     "output_type": "execute_result"
    }
   ],
   "source": [
    "# Find the different cause of large wildfires\n",
    "df_large['NWCG_CAUSE'].unique()"
   ]
  },
  {
   "cell_type": "code",
   "execution_count": 6,
   "id": "720a2389",
   "metadata": {},
   "outputs": [],
   "source": [
    "# Filter fires that were caused by natural causes\n",
    "df_large_natural = df_large.copy()\n",
    "df_large_natural = df_large_natural[df_large_natural['NWCG_CAUSE'] == 'Natural']"
   ]
  },
  {
   "cell_type": "markdown",
   "id": "f3a6bbdf",
   "metadata": {},
   "source": [
    "### `datetime` functionality"
   ]
  },
  {
   "cell_type": "code",
   "execution_count": 7,
   "id": "50f4602c",
   "metadata": {},
   "outputs": [
    {
     "data": {
      "text/plain": [
       "56       2008/07/02 00:00:00.000\n",
       "89       2000/07/22 00:00:00.000\n",
       "95       2007/08/31 00:00:00.000\n",
       "96       2003/06/29 00:00:00.000\n",
       "109      2007/07/13 00:00:00.000\n",
       "                  ...           \n",
       "67007    2017/08/29 00:00:00.000\n",
       "67008    2011/09/15 00:00:00.000\n",
       "67014    2014/09/16 00:00:00.000\n",
       "67017    2013/08/07 00:00:00.000\n",
       "67022    2016/08/17 00:00:00.000\n",
       "Name: DISCOVERY_, Length: 1164, dtype: object"
      ]
     },
     "execution_count": 7,
     "metadata": {},
     "output_type": "execute_result"
    }
   ],
   "source": [
    "# Find date of discovery\n",
    "df_large_natural['DISCOVERY_']"
   ]
  },
  {
   "cell_type": "markdown",
   "id": "acaadc1a",
   "metadata": {},
   "source": [
    "`pandas` contains extensive capabilities and features for working with time series data. But to access this functionality, we need to convert the datatype of this column from `object` to `datetime64`. "
   ]
  },
  {
   "cell_type": "code",
   "execution_count": 8,
   "id": "6a0bf0e8",
   "metadata": {},
   "outputs": [
    {
     "data": {
      "text/plain": [
       "56      2008-07-02\n",
       "89      2000-07-22\n",
       "95      2007-08-31\n",
       "96      2003-06-29\n",
       "109     2007-07-13\n",
       "           ...    \n",
       "67007   2017-08-29\n",
       "67008   2011-09-15\n",
       "67014   2014-09-16\n",
       "67017   2013-08-07\n",
       "67022   2016-08-17\n",
       "Name: DISCOVERY_, Length: 1164, dtype: datetime64[ns]"
      ]
     },
     "execution_count": 8,
     "metadata": {},
     "output_type": "execute_result"
    }
   ],
   "source": [
    "datetime = pd.to_datetime(df_large_natural['DISCOVERY_'], format='%Y/%m/%d %H:%M:%S.%f')\n",
    "datetime"
   ]
  },
  {
   "cell_type": "code",
   "execution_count": 9,
   "id": "8cc13fd5",
   "metadata": {},
   "outputs": [],
   "source": [
    "df_large_natural['datetime'] = datetime # Sorry about the warning, extra credit if someone can fix this!\n",
    "#Jon was right, he and I chatted about how to fix this! I cannot claim I figured that out on my own. "
   ]
  },
  {
   "cell_type": "code",
   "execution_count": 10,
   "id": "835a9026",
   "metadata": {},
   "outputs": [],
   "source": [
    "# Filter large, natural wildfires in 2016\n",
    "df_large_natural_2016 = df_large_natural[df_large_natural['datetime'].dt.year == 2016]"
   ]
  },
  {
   "cell_type": "markdown",
   "id": "024d57af",
   "metadata": {},
   "source": [
    "### Group by categories"
   ]
  },
  {
   "cell_type": "markdown",
   "id": "6eed80ef",
   "metadata": {},
   "source": [
    "*********\n",
    "\n",
    "## Question 1 (20 points): \n",
    "\n",
    "Make a **new file** (either a Jupyter Notebook or Spyder `.py` file) and name it `lab2_submission.ipynb`. Write some code to answer the following questions:\n",
    "\n",
    "* a) Which **county** had the most **human** caused wildfires **>50 acres**? (HINT: use the `FIPS_NAME` column)\n",
    "* b) Which **month** had the most **natural** caused wildfires **>100 acres**?\n",
    "* c) How many fires **>200 acres** have an **undetermined** cause (e.g. `Missing data/not specified/undetermined`?\n",
    "* d) What is the name, date, and county of the **largest sized fire**?\n",
    "* e) How many wildfires in **Lane County** were **>50 acres**?\n",
    "\n",
    "*Remember, focus on adapting the example code rather than writing your own from scratch.*\n",
    "**************"
   ]
  },
  {
   "cell_type": "markdown",
   "id": "563a49e5",
   "metadata": {},
   "source": [
    "* a) Which **county** had the most **human** caused wildfires **>50 acres**? (HINT: use the `FIPS_NAME` column)\n",
    "\n",
    "**Answer**\n",
    "Wasco County had the most human caused fires Greater than 50 acres. Work below."
   ]
  },
  {
   "cell_type": "code",
   "execution_count": 11,
   "id": "4249ee9d",
   "metadata": {},
   "outputs": [
    {
     "data": {
      "text/plain": [
       "'Wasco County'"
      ]
     },
     "execution_count": 11,
     "metadata": {},
     "output_type": "execute_result"
    }
   ],
   "source": [
    "#create a deep copy of df (df_gt_50) then subset it for fires greater than 50 acres\n",
    "df_gt_50_hum = df.copy()\n",
    "df_gt_50_hum = df_gt_50_hum[(df_gt_50_hum['FIRE_SIZE'] > 50)&(df_gt_50_hum['NWCG_CAUSE'] == 'Human')]\n",
    "df_gt_50_hum['FIPS_NAME'].describe()['top']"
   ]
  },
  {
   "cell_type": "markdown",
   "id": "28a48635",
   "metadata": {},
   "source": [
    "* b) Which **month** had the most **natural** caused wildfires **>100 acres**?\n",
    "\n",
    "***Answer*** August had the most natural wildfires greater than 100 acres (549 fires)."
   ]
  },
  {
   "cell_type": "code",
   "execution_count": 12,
   "id": "975028ea",
   "metadata": {},
   "outputs": [
    {
     "data": {
      "text/plain": [
       "datetime\n",
       "8    549\n",
       "Name: OBJECTID, dtype: int64"
      ]
     },
     "execution_count": 12,
     "metadata": {},
     "output_type": "execute_result"
    }
   ],
   "source": [
    "#create a deep copy of df (df_gt_100) then subset it for fires greater than 100 acres\n",
    "df_gt_100_nat = df.copy()\n",
    "df_gt_100_nat = df_gt_100_nat[df_gt_100_nat['FIRE_SIZE'] > 100]\n",
    "df_gt_100_nat = df_gt_100_nat[df_gt_100_nat['NWCG_CAUSE'] == 'Natural']\n",
    "\n",
    "datetime = pd.to_datetime(df_gt_100_nat['DISCOVERY_'],format='%Y/%m/%d %H:%M:%S.%f')\n",
    "df_gt_100_nat['datetime'] = datetime\n",
    "\n",
    "Month_Count = df_gt_100_nat.iloc[:,0].groupby(df_gt_100_nat['datetime'].dt.month).count()\n",
    "Month_Count[Month_Count == Month_Count.max()]"
   ]
  },
  {
   "cell_type": "markdown",
   "id": "3a33ee86",
   "metadata": {},
   "source": [
    "* c) How many fires **>200 acres** have an **undetermined** cause (e.g. `Missing data/not specified/undetermined`?\n",
    "***Answer*** There were 13 fires larger than 200 acres with undetermined cause."
   ]
  },
  {
   "cell_type": "code",
   "execution_count": 13,
   "id": "ee107edd",
   "metadata": {},
   "outputs": [
    {
     "data": {
      "text/plain": [
       "13"
      ]
     },
     "execution_count": 13,
     "metadata": {},
     "output_type": "execute_result"
    }
   ],
   "source": [
    "#create a deep copy of df (df_gt_200) then subset it for fires greater than 100 acres\n",
    "df_gt_200 = df.copy()\n",
    "df_gt_200 = df_gt_200[df_gt_200['FIRE_SIZE'] > 200]\n",
    "Cause_Count = df_gt_200.iloc[:,0].groupby(df_gt_200['NWCG_CAUSE']).count()['Missing data/not specified/undetermined']\n",
    "Cause_Count"
   ]
  },
  {
   "cell_type": "markdown",
   "id": "ea091a4d",
   "metadata": {},
   "source": [
    "* d) What is the name, date, and county of the **largest sized fire**?\n",
    "***Answer*** \n",
    "The Long Draw Fire in Malheur County was discovered on July 8th 2012 and contained on July 30th 2012."
   ]
  },
  {
   "cell_type": "code",
   "execution_count": 14,
   "id": "87ea1da6",
   "metadata": {},
   "outputs": [
    {
     "data": {
      "text/plain": [
       "66964    LONG DRAW\n",
       "Name: FIRE_NAME, dtype: object"
      ]
     },
     "execution_count": 14,
     "metadata": {},
     "output_type": "execute_result"
    }
   ],
   "source": [
    "Largest_Fire = df[df['FIRE_SIZE'] == df['FIRE_SIZE'].max()]\n",
    "Largest_Fire[['FIRE_NAME','DISCOVERY_','CONT_DATE','FIPS_NAME']]['FIRE_NAME']\n"
   ]
  },
  {
   "cell_type": "markdown",
   "id": "c660fb97",
   "metadata": {},
   "source": [
    "* e) How many wildfires in **Lane County** were **>50 acres**?\n",
    "***Answer*** There were 33 wildfires in Land County larger than 50 acres."
   ]
  },
  {
   "cell_type": "markdown",
   "id": "badc1b21",
   "metadata": {},
   "source": [
    "Jon and I noticed that FIPS_NAME and COUNTY give different answers. FIPS_NAME has 33 fires for Lane, while COUNTY only has 10. I think if you look at the COUNTY data some counties are given a number instead of the name sometimes. I am not sure why! But I went with the FIPS_NAME variable because it seems more comprehensive. "
   ]
  },
  {
   "cell_type": "code",
   "execution_count": 15,
   "id": "ff2a0ecf",
   "metadata": {},
   "outputs": [
    {
     "data": {
      "text/plain": [
       "33.0"
      ]
     },
     "execution_count": 15,
     "metadata": {},
     "output_type": "execute_result"
    }
   ],
   "source": [
    "df_gt_50_lc = df[df['FIRE_SIZE']>50].copy()\n",
    "df_gt_50_lc = df_gt_50_lc[df_gt_50_lc['FIPS_NAME'] == 'Lane County']\n",
    "df_gt_50_lc.describe()['OBJECTID']['count']\n",
    "\n"
   ]
  },
  {
   "cell_type": "markdown",
   "id": "1ada64ff",
   "metadata": {
    "deletable": false
   },
   "source": [
    "## Lab 2b: Where are wildfires occurring in Lane County Oregon?\n",
    "\n",
    "So we have established that there were some fires in Lane County between 1992 and 2018. But what if we wanted to know more about where they were and how many people might have been affected? We can do this using Census Bureau data which provides population estimates at relatively small spatial scales. \n",
    "\n",
    "**Objectives:**\n",
    "   * Introduce Census Bureau data data variables and geographic units using <code>cenpy</code>.\n",
    "   * Compute how many people were impacted by wildfires in Lane County, Oregon using just a few lines of code\n",
    "   * Calculate some statistics using the <code>pandas</code> library\n",
    "   * Produce a chloropleth map\n",
    "\n",
    "We will be relying heavily on <code>cenpy</code> which is a package that enables automatic discovery and download of US Census Bureau data. <code>cenpy</code> formats Census data as a <code>geopandas</code> DataFrame for analysis in Python or export to GIS software such as QGIS. More information about this package can be found [here](https://nbviewer.org/github/ljwolf/cenpy/blob/master/notebooks/product-api.ipynb?flush_cache=true), [here](https://nbviewer.org/github/cenpy-devs/cenpy/blob/master/notebooks/segregation.ipynb), and the [GitHub repo](https://github.com/cenpy-devs/cenpy)."
   ]
  },
  {
   "cell_type": "markdown",
   "id": "4cd017c6",
   "metadata": {},
   "source": [
    "### Query Census data variables\n",
    "\n",
    "To download data, we first need to identify the relevant product and variables of interest to us. We will use data from the American Community Survey (ACS) product which provides social and economic information every year but, unlike the Decenniel Survey, only represents a sample (about 3.5 million) of US households. "
   ]
  },
  {
   "cell_type": "code",
   "execution_count": 16,
   "id": "63d87c23",
   "metadata": {},
   "outputs": [],
   "source": [
    "# Import modules\n",
    "from cenpy import products\n",
    "import matplotlib.pyplot as plt\n",
    "\n",
    "# Define product\n",
    "acs = products.ACS(2019)"
   ]
  },
  {
   "cell_type": "code",
   "execution_count": 17,
   "id": "73b91d03",
   "metadata": {},
   "outputs": [
    {
     "data": {
      "text/html": [
       "<div>\n",
       "<style scoped>\n",
       "    .dataframe tbody tr th:only-of-type {\n",
       "        vertical-align: middle;\n",
       "    }\n",
       "\n",
       "    .dataframe tbody tr th {\n",
       "        vertical-align: top;\n",
       "    }\n",
       "\n",
       "    .dataframe thead th {\n",
       "        text-align: right;\n",
       "    }\n",
       "</style>\n",
       "<table border=\"1\" class=\"dataframe\">\n",
       "  <thead>\n",
       "    <tr style=\"text-align: right;\">\n",
       "      <th></th>\n",
       "      <th>description</th>\n",
       "      <th>columns</th>\n",
       "    </tr>\n",
       "    <tr>\n",
       "      <th>table_name</th>\n",
       "      <th></th>\n",
       "      <th></th>\n",
       "    </tr>\n",
       "  </thead>\n",
       "  <tbody>\n",
       "    <tr>\n",
       "      <th>B05010</th>\n",
       "      <td>RATIO OF INCOME TO POVERTY LEVEL IN THE PAST 1...</td>\n",
       "      <td>[B05010_001E, B05010_002E, B05010_003E, B05010...</td>\n",
       "    </tr>\n",
       "    <tr>\n",
       "      <th>B06010</th>\n",
       "      <td>PLACE OF BIRTH BY INDIVIDUAL INCOME IN THE PAS...</td>\n",
       "      <td>[B06010_001E, B06010_002E, B06010_003E, B06010...</td>\n",
       "    </tr>\n",
       "    <tr>\n",
       "      <th>B06011</th>\n",
       "      <td>MEDIAN INCOME IN THE PAST 12 MONTHS (IN 2019 I...</td>\n",
       "      <td>[B06011_001E, B06011_002E, B06011_003E, B06011...</td>\n",
       "    </tr>\n",
       "    <tr>\n",
       "      <th>B07010</th>\n",
       "      <td>GEOGRAPHICAL MOBILITY IN THE PAST YEAR BY INDI...</td>\n",
       "      <td>[B07010_001E, B07010_002E, B07010_003E, B07010...</td>\n",
       "    </tr>\n",
       "    <tr>\n",
       "      <th>B07011</th>\n",
       "      <td>MEDIAN INCOME IN THE PAST 12 MONTHS (IN 2019 I...</td>\n",
       "      <td>[B07011_001E, B07011_002E, B07011_003E, B07011...</td>\n",
       "    </tr>\n",
       "    <tr>\n",
       "      <th>...</th>\n",
       "      <td>...</td>\n",
       "      <td>...</td>\n",
       "    </tr>\n",
       "    <tr>\n",
       "      <th>C17002</th>\n",
       "      <td>RATIO OF INCOME TO POVERTY LEVEL IN THE PAST 1...</td>\n",
       "      <td>[C17002_001E, C17002_002E, C17002_003E, C17002...</td>\n",
       "    </tr>\n",
       "    <tr>\n",
       "      <th>C18131</th>\n",
       "      <td>RATIO OF INCOME TO POVERTY LEVEL IN THE PAST 1...</td>\n",
       "      <td>[C18131_001E, C18131_002E, C18131_003E, C18131...</td>\n",
       "    </tr>\n",
       "    <tr>\n",
       "      <th>C27016</th>\n",
       "      <td>HEALTH INSURANCE COVERAGE STATUS BY RATIO OF I...</td>\n",
       "      <td>[C27016_001E, C27016_002E, C27016_003E, C27016...</td>\n",
       "    </tr>\n",
       "    <tr>\n",
       "      <th>C27017</th>\n",
       "      <td>PRIVATE HEALTH INSURANCE BY RATIO OF INCOME TO...</td>\n",
       "      <td>[C27017_001E, C27017_002E, C27017_003E, C27017...</td>\n",
       "    </tr>\n",
       "    <tr>\n",
       "      <th>C27018</th>\n",
       "      <td>PUBLIC HEALTH INSURANCE BY RATIO OF INCOME TO ...</td>\n",
       "      <td>[C27018_001E, C27018_002E, C27018_003E, C27018...</td>\n",
       "    </tr>\n",
       "  </tbody>\n",
       "</table>\n",
       "<p>98 rows × 2 columns</p>\n",
       "</div>"
      ],
      "text/plain": [
       "                                                  description  \\\n",
       "table_name                                                      \n",
       "B05010      RATIO OF INCOME TO POVERTY LEVEL IN THE PAST 1...   \n",
       "B06010      PLACE OF BIRTH BY INDIVIDUAL INCOME IN THE PAS...   \n",
       "B06011      MEDIAN INCOME IN THE PAST 12 MONTHS (IN 2019 I...   \n",
       "B07010      GEOGRAPHICAL MOBILITY IN THE PAST YEAR BY INDI...   \n",
       "B07011      MEDIAN INCOME IN THE PAST 12 MONTHS (IN 2019 I...   \n",
       "...                                                       ...   \n",
       "C17002      RATIO OF INCOME TO POVERTY LEVEL IN THE PAST 1...   \n",
       "C18131      RATIO OF INCOME TO POVERTY LEVEL IN THE PAST 1...   \n",
       "C27016      HEALTH INSURANCE COVERAGE STATUS BY RATIO OF I...   \n",
       "C27017      PRIVATE HEALTH INSURANCE BY RATIO OF INCOME TO...   \n",
       "C27018      PUBLIC HEALTH INSURANCE BY RATIO OF INCOME TO ...   \n",
       "\n",
       "                                                      columns  \n",
       "table_name                                                     \n",
       "B05010      [B05010_001E, B05010_002E, B05010_003E, B05010...  \n",
       "B06010      [B06010_001E, B06010_002E, B06010_003E, B06010...  \n",
       "B06011      [B06011_001E, B06011_002E, B06011_003E, B06011...  \n",
       "B07010      [B07010_001E, B07010_002E, B07010_003E, B07010...  \n",
       "B07011      [B07011_001E, B07011_002E, B07011_003E, B07011...  \n",
       "...                                                       ...  \n",
       "C17002      [C17002_001E, C17002_002E, C17002_003E, C17002...  \n",
       "C18131      [C18131_001E, C18131_002E, C18131_003E, C18131...  \n",
       "C27016      [C27016_001E, C27016_002E, C27016_003E, C27016...  \n",
       "C27017      [C27017_001E, C27017_002E, C27017_003E, C27017...  \n",
       "C27018      [C27018_001E, C27018_002E, C27018_003E, C27018...  \n",
       "\n",
       "[98 rows x 2 columns]"
      ]
     },
     "execution_count": 17,
     "metadata": {},
     "output_type": "execute_result"
    }
   ],
   "source": [
    "acs.filter_tables('INCOME', by='description')"
   ]
  },
  {
   "cell_type": "markdown",
   "id": "31d35fc9",
   "metadata": {},
   "source": [
    "Now we need a list of Census variables. One way to do this is to browse the ACS documentation which can be found here: https://api.census.gov/data/2019/acs/acs5/variables.html. The other is to search the tables using keywords and <code>cenpy</code>."
   ]
  },
  {
   "cell_type": "markdown",
   "id": "6276c406",
   "metadata": {},
   "source": [
    "*********\n",
    "\n",
    "## Question 2 (20 points): \n",
    "* a) Write some more code in `lab2_submission.ipynb` to produce a chloropleth map for a city, county or state showing a Census variable (or derived variable) of your choice. Consider choosing a place or variable that inetrests you. The following is a useful guide: https://nbviewer.org/github/ljwolf/cenpy/blob/master/notebooks/product-api.ipynb?flush_cache=true\n",
    "\n",
    "Note that:\n",
    "* If your map represents a state, use county level data\n",
    "* If your map represents a county or city, use tract level data\n",
    "\n",
    "The following table provides a list of Census variables: https://api.census.gov/data/2019/acs/acs5/variables.html\n",
    "\n",
    "**************"
   ]
  },
  {
   "cell_type": "code",
   "execution_count": 18,
   "id": "2835c173",
   "metadata": {},
   "outputs": [
    {
     "name": "stderr",
     "output_type": "stream",
     "text": [
      "C:\\Users\\brdeh\\anaconda3\\envs\\lab2\\lib\\site-packages\\pyproj\\crs\\crs.py:131: FutureWarning: '+init=<authority>:<code>' syntax is deprecated. '<authority>:<code>' is the preferred initialization method. When making the change, be mindful of axis order changes: https://pyproj4.github.io/pyproj/stable/gotchas.html#axis-order-changes-in-proj-6\n",
      "  in_crs_string = _prepare_from_proj_string(in_crs_string)\n",
      "C:\\Users\\brdeh\\anaconda3\\envs\\lab2\\lib\\site-packages\\pyproj\\crs\\crs.py:131: FutureWarning: '+init=<authority>:<code>' syntax is deprecated. '<authority>:<code>' is the preferred initialization method. When making the change, be mindful of axis order changes: https://pyproj4.github.io/pyproj/stable/gotchas.html#axis-order-changes-in-proj-6\n",
      "  in_crs_string = _prepare_from_proj_string(in_crs_string)\n",
      "C:\\Users\\brdeh\\anaconda3\\envs\\lab2\\lib\\site-packages\\cenpy\\products.py:767: FutureWarning: The `op` parameter is deprecated and will be removed in a future release. Please use the `predicate` parameter instead.\n",
      "  return self._from_name(state, variables, level, \"States\", **kwargs)\n"
     ]
    }
   ],
   "source": [
    "# download county data from Minnesota for B06011_011E - MEDIAN INCOME IN THE PAST 12 MONTHS (IN 2019 INFLATION-ADJUSTED DOLLARS) BY PLACE OF BIRTH IN THE UNITED STATES\n",
    "Minne = products.ACS(2019).from_state('Minnesota', level='county',\n",
    "                                        variables=['B06011_001E'])"
   ]
  },
  {
   "cell_type": "code",
   "execution_count": 19,
   "id": "db0242c0",
   "metadata": {},
   "outputs": [
    {
     "data": {
      "text/plain": [
       "count       87.000000\n",
       "mean     32216.643678\n",
       "std       4349.434286\n",
       "min      24131.000000\n",
       "25%      29639.000000\n",
       "50%      31283.000000\n",
       "75%      33505.000000\n",
       "max      45984.000000\n",
       "Name: B06011_001E, dtype: float64"
      ]
     },
     "execution_count": 19,
     "metadata": {},
     "output_type": "execute_result"
    }
   ],
   "source": [
    "Minne['B06011_001E'].describe()"
   ]
  },
  {
   "cell_type": "code",
   "execution_count": 20,
   "id": "abe5b337",
   "metadata": {},
   "outputs": [
    {
     "data": {
      "text/plain": [
       "Text(0.5, 1.0, 'Median Income in the past 12 months')"
      ]
     },
     "execution_count": 20,
     "metadata": {},
     "output_type": "execute_result"
    },
    {
     "data": {
      "image/png": "[encoded data removed]",
      "text/plain": [
       "<Figure size 864x720 with 2 Axes>"
      ]
     },
     "metadata": {
      "needs_background": "light"
     },
     "output_type": "display_data"
    }
   ],
   "source": [
    "# Chloropleth map of MEDIAN INCOME IN THE PAST 12 MONTHS (IN 2019 INFLATION-ADJUSTED DOLLARS) BY PLACE OF BIRTH IN THE UNITED STATES\n",
    "\n",
    "from mpl_toolkits.axes_grid1 import make_axes_locatable\n",
    "\n",
    "# Plot map\n",
    "f, ax = plt.subplots(1, 1, figsize=(12,10))\n",
    "# These two lines make the colorbar the same size as the axes.\n",
    "divider = make_axes_locatable(ax)\n",
    "cax = divider.append_axes(\"right\", size=\"5%\", pad=0.1)\n",
    "Minne.plot('B06011_001E', ax=ax, cmap='turbo', vmin = 24000, vmax = 46000, legend=True, cax=cax)\n",
    "ax.set_title('Median Income in the past 12 months', fontsize = 20, loc='center')\n"
   ]
  },
  {
   "cell_type": "markdown",
   "id": "9c646254",
   "metadata": {},
   "source": [
    "**************\n",
    "## Task 3 (10 points):\n",
    "* a) Save your answers notebook, commit and push to GitHub using instructions from Lab 1\n",
    "* c) Also upload your answers as a <code>.pdf</code> to Canvas\n",
    "\n",
    "**************"
   ]
  },
  {
   "cell_type": "markdown",
   "id": "d8e649d6",
   "metadata": {},
   "source": [
    "## Remember to submit your answers to Questions 1 and 2 and Task 3 **by Friday 11:59pm**"
   ]
  }
 ],
 "metadata": {
  "kernelspec": {
   "display_name": "Python 3 (ipykernel)",
   "language": "python",
   "name": "python3"
  },
  "language_info": {
   "codemirror_mode": {
    "name": "ipython",
    "version": 3
   },
   "file_extension": ".py",
   "mimetype": "text/x-python",
   "name": "python",
   "nbconvert_exporter": "python",
   "pygments_lexer": "ipython3",
   "version": "3.8.12"
  }
 },
 "nbformat": 4,
 "nbformat_minor": 5
}
