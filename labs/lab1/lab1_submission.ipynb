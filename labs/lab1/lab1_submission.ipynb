{
 "cells": [
  {
   "cell_type": "markdown",
   "id": "57528222",
   "metadata": {},
   "source": [
    "# Lab 1b Answers\n",
    "## Task 1\n",
    "Modify script slightly"
   ]
  },
  {
   "cell_type": "code",
   "execution_count": 1,
   "id": "a839e300",
   "metadata": {},
   "outputs": [
    {
     "name": "stdout",
     "output_type": "stream",
     "text": [
      "1.5\n"
     ]
    }
   ],
   "source": [
    "import numpy as np\n",
    "a = 3\n",
    "b = 2\n",
    "d = 4\n",
    "c = np.divide(np.multiply(a, b),d)\n",
    "print(c)"
   ]
  },
  {
   "cell_type": "markdown",
   "id": "6fb0d26f",
   "metadata": {},
   "source": [
    "## Task 2\n"
   ]
  },
  {
   "cell_type": "markdown",
   "id": "f838c7c9",
   "metadata": {},
   "source": [
    "![The San Juan Mountains are beautiful!](/\")"
   ]
  }
 ],
 "metadata": {
  "kernelspec": {
   "display_name": "Python 3 (ipykernel)",
   "language": "python",
   "name": "python3"
  },
  "language_info": {
   "codemirror_mode": {
    "name": "ipython",
    "version": 3
   },
   "file_extension": ".py",
   "mimetype": "text/x-python",
   "name": "python",
   "nbconvert_exporter": "python",
   "pygments_lexer": "ipython3",
   "version": "3.8.12"
  }
 },
 "nbformat": 4,
 "nbformat_minor": 5
}
