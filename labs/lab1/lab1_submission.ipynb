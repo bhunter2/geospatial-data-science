{
 "cells": [
  {
   "cell_type": "markdown",
   "id": "78d46c96",
   "metadata": {},
   "source": [
    "# Lab 1b Answers\n",
    "## Task 1\n",
    "Modify script slightly. I added variable *d* which is 6. Then had *c* equal to the product of *a* and *b* divided by *d*."
   ]
  },
  {
   "cell_type": "code",
   "execution_count": 6,
   "id": "bdb95090",
   "metadata": {},
   "outputs": [
    {
     "name": "stdout",
     "output_type": "stream",
     "text": [
      "1.0\n"
     ]
    }
   ],
   "source": [
    "import numpy as np\n",
    "a = 3\n",
    "b = 2\n",
    "d = 6\n",
    "c = np.divide(np.multiply(a, b),d)\n",
    "print(c)"
   ]
  },
  {
   "cell_type": "markdown",
   "id": "3b183bc6",
   "metadata": {},
   "source": [
    "## Task 2\n"
   ]
  },
  {
   "cell_type": "markdown",
   "id": "d7812135",
   "metadata": {},
   "source": [
    "![Buckskin Gulch, Colorado Plateau, Utah](BuckskinGulch.jpg)\n",
    "An ***inspiring*** canyon! Location: *Buckskin Gulch*, **Colorado Plateau**, **Utah**.\n",
    "\n",
    "<a href=\"https://www.outdoorproject.com/united-states/utah/buckskin-gulch-hike\" target=\"_blank\">Learn more about Buckskin Gulch here on Outdoor Project!</a>"
   ]
  }
 ],
 "metadata": {
  "kernelspec": {
   "display_name": "Python 3 (ipykernel)",
   "language": "python",
   "name": "python3"
  },
  "language_info": {
   "codemirror_mode": {
    "name": "ipython",
    "version": 3
   },
   "file_extension": ".py",
   "mimetype": "text/x-python",
   "name": "python",
   "nbconvert_exporter": "python",
   "pygments_lexer": "ipython3",
   "version": "3.8.12"
  }
 },
 "nbformat": 4,
 "nbformat_minor": 5
}
